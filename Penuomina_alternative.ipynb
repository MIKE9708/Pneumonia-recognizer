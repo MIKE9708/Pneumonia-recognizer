{
 "cells": [
  {
   "cell_type": "code",
   "execution_count": 48,
   "metadata": {},
   "outputs": [
    {
     "name": "stdout",
     "output_type": "stream",
     "text": [
      "Found 2160 images belonging to 2 classes.\n",
      "Found 538 images belonging to 2 classes.\n"
     ]
    }
   ],
   "source": [
    "import os\n",
    "import shutil\n",
    "import pandas as pd\n",
    "from tensorflow.keras.preprocessing.image import ImageDataGenerator\n",
    "import tensorflow as tf\n",
    "from sklearn.model_selection import train_test_split\n",
    "\n",
    "with tf.device('/CPU:0'):\n",
    "    \n",
    "    train_data = ImageDataGenerator(rescale=1./255)\n",
    "\n",
    "    normal_data_dir = '../opt/datasets/chest_xray/small_data/balanced/train_balanced/'\n",
    "    #validation_data_dir = '../opt/datasets/chest_xray/small_data/balanced/validation_balanced/'\n",
    "\n",
    "    train_gen = train_data.flow_from_directory(normal_data_dir,target_size=(150,150),batch_size=20,class_mode='binary') \n",
    "    #val_gen = train_data.flow_from_directory(validation_data_dir,target_size=(150,150),batch_size=20,class_mode='binary')    "
   ]
  },
  {
   "cell_type": "code",
   "execution_count": 36,
   "metadata": {},
   "outputs": [],
   "source": [
    "import pathlib\n",
    "# K-fold aproach\n",
    "data_path = pathlib.Path(r'../opt/datasets/chest_xray/small_data/balanced/')\n",
    "\n",
    "# list of all images\n",
    "img_path = list(data_path.glob('**/*.jpeg'))\n",
    "\n",
    "# list of labels of datasets\n",
    "img_labels = list(map(lambda x: os.path.split(os.path.split(x)[0])[1], img_path))"
   ]
  },
  {
   "cell_type": "code",
   "execution_count": 37,
   "metadata": {},
   "outputs": [
    {
     "data": {
      "text/html": [
       "<div>\n",
       "<style scoped>\n",
       "    .dataframe tbody tr th:only-of-type {\n",
       "        vertical-align: middle;\n",
       "    }\n",
       "\n",
       "    .dataframe tbody tr th {\n",
       "        vertical-align: top;\n",
       "    }\n",
       "\n",
       "    .dataframe thead th {\n",
       "        text-align: right;\n",
       "    }\n",
       "</style>\n",
       "<table border=\"1\" class=\"dataframe\">\n",
       "  <thead>\n",
       "    <tr style=\"text-align: right;\">\n",
       "      <th></th>\n",
       "      <th>PATH</th>\n",
       "      <th>LABELS</th>\n",
       "    </tr>\n",
       "  </thead>\n",
       "  <tbody>\n",
       "    <tr>\n",
       "      <th>0</th>\n",
       "      <td>../opt/datasets/chest_xray/small_data/balanced...</td>\n",
       "      <td>PNEUMONIA</td>\n",
       "    </tr>\n",
       "    <tr>\n",
       "      <th>1</th>\n",
       "      <td>../opt/datasets/chest_xray/small_data/balanced...</td>\n",
       "      <td>PNEUMONIA</td>\n",
       "    </tr>\n",
       "    <tr>\n",
       "      <th>2</th>\n",
       "      <td>../opt/datasets/chest_xray/small_data/balanced...</td>\n",
       "      <td>NORMAL</td>\n",
       "    </tr>\n",
       "    <tr>\n",
       "      <th>3</th>\n",
       "      <td>../opt/datasets/chest_xray/small_data/balanced...</td>\n",
       "      <td>PNEUMONIA</td>\n",
       "    </tr>\n",
       "    <tr>\n",
       "      <th>4</th>\n",
       "      <td>../opt/datasets/chest_xray/small_data/balanced...</td>\n",
       "      <td>NORMAL</td>\n",
       "    </tr>\n",
       "  </tbody>\n",
       "</table>\n",
       "</div>"
      ],
      "text/plain": [
       "                                                PATH     LABELS\n",
       "0  ../opt/datasets/chest_xray/small_data/balanced...  PNEUMONIA\n",
       "1  ../opt/datasets/chest_xray/small_data/balanced...  PNEUMONIA\n",
       "2  ../opt/datasets/chest_xray/small_data/balanced...     NORMAL\n",
       "3  ../opt/datasets/chest_xray/small_data/balanced...  PNEUMONIA\n",
       "4  ../opt/datasets/chest_xray/small_data/balanced...     NORMAL"
      ]
     },
     "execution_count": 37,
     "metadata": {},
     "output_type": "execute_result"
    }
   ],
   "source": [
    "# Labels names\n",
    "pandas_img_path = pd.Series(img_path,name = 'PATH').astype('string')\n",
    "pandas_img_labels = pd.Series(img_labels, name='LABELS').astype(str)\n",
    "\n",
    "# Creating table\n",
    "img_dataframe = pd.merge(pandas_img_path, pandas_img_labels, right_index=True, left_index=True)\n",
    "# Adding the index\n",
    "img_dataframe = img_dataframe.sample(frac = 1).reset_index(drop=True)\n",
    "img_dataframe.head()"
   ]
  },
  {
   "cell_type": "code",
   "execution_count": 38,
   "metadata": {},
   "outputs": [
    {
     "data": {
      "text/plain": [
       "PNEUMONIA    1349\n",
       "NORMAL       1349\n",
       "Name: LABELS, dtype: int64"
      ]
     },
     "execution_count": 38,
     "metadata": {},
     "output_type": "execute_result"
    }
   ],
   "source": [
    "img_dataframe['LABELS'].value_counts(ascending=True)"
   ]
  },
  {
   "cell_type": "code",
   "execution_count": 39,
   "metadata": {},
   "outputs": [],
   "source": [
    "from sklearn.model_selection import KFold, train_test_split\n",
    "\n",
    "train_dataset, test_dataset = train_test_split(img_dataframe, train_size=0.9, shuffle=True, stratify=img_dataframe['LABELS'])"
   ]
  },
  {
   "cell_type": "code",
   "execution_count": 58,
   "metadata": {},
   "outputs": [
    {
     "name": "stdout",
     "output_type": "stream",
     "text": [
      "Model: \"sequential_4\"\n",
      "_________________________________________________________________\n",
      "Layer (type)                 Output Shape              Param #   \n",
      "=================================================================\n",
      "conv2d_12 (Conv2D)           (None, 148, 148, 32)      896       \n",
      "_________________________________________________________________\n",
      "max_pooling2d_12 (MaxPooling (None, 74, 74, 32)        0         \n",
      "_________________________________________________________________\n",
      "conv2d_13 (Conv2D)           (None, 72, 72, 64)        18496     \n",
      "_________________________________________________________________\n",
      "max_pooling2d_13 (MaxPooling (None, 36, 36, 64)        0         \n",
      "_________________________________________________________________\n",
      "conv2d_14 (Conv2D)           (None, 34, 34, 128)       73856     \n",
      "_________________________________________________________________\n",
      "max_pooling2d_14 (MaxPooling (None, 17, 17, 128)       0         \n",
      "_________________________________________________________________\n",
      "flatten_4 (Flatten)          (None, 36992)             0         \n",
      "_________________________________________________________________\n",
      "dropout_4 (Dropout)          (None, 36992)             0         \n",
      "_________________________________________________________________\n",
      "dense_8 (Dense)              (None, 128)               4735104   \n",
      "_________________________________________________________________\n",
      "dense_9 (Dense)              (None, 1)                 129       \n",
      "=================================================================\n",
      "Total params: 4,828,481\n",
      "Trainable params: 4,828,481\n",
      "Non-trainable params: 0\n",
      "_________________________________________________________________\n"
     ]
    }
   ],
   "source": [
    "from tensorflow.keras import layers\n",
    "from tensorflow.keras import models\n",
    "\n",
    "my_model = models.Sequential()\n",
    "my_model.add(layers.Conv2D(32,(3,3),activation=\"relu\",input_shape=(150,150,3)))\n",
    "my_model.add(layers.MaxPooling2D((2,2)))\n",
    "my_model.add(layers.Conv2D(64,(3,3),activation=\"relu\"))\n",
    "    #my_model.add(layers.MaxPooling2D((2,2)))\n",
    "    #my_model.add(layers.Conv2D(128,(3,3),activation=\"relu\"))\n",
    "my_model.add(layers.MaxPooling2D((2,2))) # riduco size\n",
    "my_model.add(layers.Conv2D(128,(3,3),activation=\"relu\"))\n",
    "my_model.add(layers.MaxPooling2D((2,2))) # riduco size\n",
    "my_model.add(layers.Flatten())\n",
    "my_model.add(layers.Dropout(0.5))# unita di input settate a 0 random per evitare overfit\n",
    "my_model.add(layers.Dense(128,activation=\"relu\"))\n",
    "my_model.add(layers.Dense(1,activation='sigmoid'))\n",
    "my_model.summary()"
   ]
  },
  {
   "cell_type": "code",
   "execution_count": 59,
   "metadata": {},
   "outputs": [
    {
     "name": "stdout",
     "output_type": "stream",
     "text": [
      "\n",
      "##################################################\n",
      "Fold:  1\n",
      "##################################################\n",
      "Found 1942 validated image filenames belonging to 2 classes.\n",
      "Found 486 validated image filenames belonging to 2 classes.\n",
      "WARNING:tensorflow:sample_weight modes were coerced from\n",
      "  ...\n",
      "    to  \n",
      "  ['...']\n",
      "WARNING:tensorflow:sample_weight modes were coerced from\n",
      "  ...\n",
      "    to  \n",
      "  ['...']\n",
      "Train for 122 steps, validate for 31 steps\n",
      "Epoch 1/12\n",
      "122/122 [==============================] - 20s 162ms/step - loss: 0.3829 - accuracy: 0.8234 - precision: 0.8181 - recall: 0.8308 - val_loss: 0.1635 - val_accuracy: 0.9506 - val_precision: 0.9465 - val_recall: 0.9544\n",
      "Epoch 2/12\n",
      "122/122 [==============================] - 19s 159ms/step - loss: 0.1802 - accuracy: 0.9382 - precision: 0.9372 - recall: 0.9391 - val_loss: 0.2872 - val_accuracy: 0.8909 - val_precision: 0.8264 - val_recall: 0.9876\n",
      "Epoch 3/12\n",
      "122/122 [==============================] - 19s 159ms/step - loss: 0.1201 - accuracy: 0.9552 - precision: 0.9556 - recall: 0.9546 - val_loss: 0.2206 - val_accuracy: 0.9280 - val_precision: 0.8787 - val_recall: 0.9917\n",
      "Epoch 4/12\n",
      "122/122 [==============================] - 19s 159ms/step - loss: 0.0979 - accuracy: 0.9634 - precision: 0.9658 - recall: 0.9608 - val_loss: 0.1380 - val_accuracy: 0.9568 - val_precision: 0.9583 - val_recall: 0.9544\n",
      "Epoch 5/12\n",
      "122/122 [==============================] - 19s 159ms/step - loss: 0.0954 - accuracy: 0.9629 - precision: 0.9677 - recall: 0.9577 - val_loss: 0.1555 - val_accuracy: 0.9547 - val_precision: 0.9620 - val_recall: 0.9461\n",
      "Epoch 6/12\n",
      "122/122 [==============================] - 19s 159ms/step - loss: 0.0921 - accuracy: 0.9686 - precision: 0.9739 - recall: 0.9628 - val_loss: 0.1332 - val_accuracy: 0.9527 - val_precision: 0.9739 - val_recall: 0.9295\n",
      "Epoch 7/12\n",
      "122/122 [==============================] - 19s 159ms/step - loss: 0.0643 - accuracy: 0.9753 - precision: 0.9792 - recall: 0.9711 - val_loss: 0.1779 - val_accuracy: 0.9465 - val_precision: 0.9536 - val_recall: 0.9378\n",
      "Epoch 8/12\n",
      "122/122 [==============================] - 19s 159ms/step - loss: 0.0752 - accuracy: 0.9727 - precision: 0.9722 - recall: 0.9732 - val_loss: 0.1453 - val_accuracy: 0.9588 - val_precision: 0.9662 - val_recall: 0.9502\n",
      "Epoch 9/12\n",
      "122/122 [==============================] - 19s 159ms/step - loss: 0.0468 - accuracy: 0.9830 - precision: 0.9835 - recall: 0.9825 - val_loss: 0.1623 - val_accuracy: 0.9588 - val_precision: 0.9702 - val_recall: 0.9461\n",
      "Epoch 10/12\n",
      "122/122 [==============================] - 19s 159ms/step - loss: 0.0477 - accuracy: 0.9773 - precision: 0.9773 - recall: 0.9773 - val_loss: 0.1330 - val_accuracy: 0.9630 - val_precision: 0.9665 - val_recall: 0.9585\n",
      "Epoch 11/12\n",
      "122/122 [==============================] - 20s 160ms/step - loss: 0.0436 - accuracy: 0.9820 - precision: 0.9834 - recall: 0.9804 - val_loss: 0.1715 - val_accuracy: 0.9671 - val_precision: 0.9630 - val_recall: 0.9710\n",
      "Epoch 12/12\n",
      "122/122 [==============================] - 19s 160ms/step - loss: 0.0402 - accuracy: 0.9871 - precision: 0.9886 - recall: 0.9856 - val_loss: 0.1674 - val_accuracy: 0.9527 - val_precision: 0.9580 - val_recall: 0.9461\n",
      "\n",
      "##################################################\n",
      "Fold:  2\n",
      "##################################################\n",
      "Found 1942 validated image filenames belonging to 2 classes.\n",
      "Found 486 validated image filenames belonging to 2 classes.\n",
      "WARNING:tensorflow:sample_weight modes were coerced from\n",
      "  ...\n",
      "    to  \n",
      "  ['...']\n",
      "WARNING:tensorflow:sample_weight modes were coerced from\n",
      "  ...\n",
      "    to  \n",
      "  ['...']\n",
      "Train for 122 steps, validate for 31 steps\n",
      "Epoch 13/24\n",
      "122/122 [==============================] - 19s 159ms/step - loss: 0.0753 - accuracy: 0.9737 - precision: 0.9733 - recall: 0.9743 - val_loss: 0.0662 - val_accuracy: 0.9733 - val_precision: 1.0000 - val_recall: 0.9451\n",
      "Epoch 14/24\n",
      "122/122 [==============================] - 19s 159ms/step - loss: 0.0515 - accuracy: 0.9825 - precision: 0.9815 - recall: 0.9836 - val_loss: 0.0195 - val_accuracy: 0.9918 - val_precision: 0.9874 - val_recall: 0.9958\n",
      "Epoch 15/24\n",
      "122/122 [==============================] - 19s 159ms/step - loss: 0.0446 - accuracy: 0.9887 - precision: 0.9877 - recall: 0.9897 - val_loss: 0.0237 - val_accuracy: 0.9918 - val_precision: 0.9957 - val_recall: 0.9873\n",
      "Epoch 16/24\n",
      "122/122 [==============================] - 19s 160ms/step - loss: 0.0377 - accuracy: 0.9871 - precision: 0.9867 - recall: 0.9877 - val_loss: 0.0422 - val_accuracy: 0.9835 - val_precision: 0.9712 - val_recall: 0.9958\n",
      "Epoch 17/24\n",
      "122/122 [==============================] - 19s 159ms/step - loss: 0.0677 - accuracy: 0.9784 - precision: 0.9784 - recall: 0.9784 - val_loss: 0.0413 - val_accuracy: 0.9835 - val_precision: 0.9872 - val_recall: 0.9789\n",
      "Epoch 18/24\n",
      "122/122 [==============================] - 19s 160ms/step - loss: 0.0311 - accuracy: 0.9892 - precision: 0.9897 - recall: 0.9887 - val_loss: 0.0465 - val_accuracy: 0.9835 - val_precision: 0.9914 - val_recall: 0.9747\n",
      "Epoch 19/24\n",
      "122/122 [==============================] - 19s 159ms/step - loss: 0.0300 - accuracy: 0.9902 - precision: 0.9887 - recall: 0.9918 - val_loss: 0.0312 - val_accuracy: 0.9918 - val_precision: 0.9957 - val_recall: 0.9873\n",
      "Epoch 20/24\n",
      "122/122 [==============================] - 19s 159ms/step - loss: 0.0209 - accuracy: 0.9928 - precision: 0.9959 - recall: 0.9897 - val_loss: 0.0334 - val_accuracy: 0.9897 - val_precision: 0.9833 - val_recall: 0.9958\n",
      "Epoch 21/24\n",
      "122/122 [==============================] - 19s 159ms/step - loss: 0.0127 - accuracy: 0.9949 - precision: 0.9959 - recall: 0.9938 - val_loss: 0.0536 - val_accuracy: 0.9794 - val_precision: 0.9633 - val_recall: 0.9958\n",
      "Epoch 22/24\n",
      "122/122 [==============================] - 19s 160ms/step - loss: 0.0218 - accuracy: 0.9923 - precision: 0.9928 - recall: 0.9918 - val_loss: 0.0466 - val_accuracy: 0.9877 - val_precision: 1.0000 - val_recall: 0.9747\n",
      "Epoch 23/24\n",
      "122/122 [==============================] - 19s 159ms/step - loss: 0.0170 - accuracy: 0.9933 - precision: 0.9938 - recall: 0.9928 - val_loss: 0.0293 - val_accuracy: 0.9918 - val_precision: 0.9916 - val_recall: 0.9916\n",
      "Epoch 24/24\n",
      "122/122 [==============================] - 19s 159ms/step - loss: 0.0383 - accuracy: 0.9882 - precision: 0.9897 - recall: 0.9866 - val_loss: 0.0475 - val_accuracy: 0.9835 - val_precision: 0.9751 - val_recall: 0.9916\n",
      "\n",
      "##################################################\n",
      "Fold:  3\n",
      "##################################################\n",
      "Found 1942 validated image filenames belonging to 2 classes.\n",
      "Found 486 validated image filenames belonging to 2 classes.\n",
      "WARNING:tensorflow:sample_weight modes were coerced from\n",
      "  ...\n",
      "    to  \n",
      "  ['...']\n",
      "WARNING:tensorflow:sample_weight modes were coerced from\n",
      "  ...\n",
      "    to  \n",
      "  ['...']\n",
      "Train for 122 steps, validate for 31 steps\n",
      "Epoch 25/36\n",
      "122/122 [==============================] - 19s 160ms/step - loss: 0.0347 - accuracy: 0.9887 - precision: 0.9876 - recall: 0.9897 - val_loss: 0.0063 - val_accuracy: 1.0000 - val_precision: 1.0000 - val_recall: 1.0000\n",
      "Epoch 26/36\n",
      "122/122 [==============================] - 19s 159ms/step - loss: 0.0212 - accuracy: 0.9938 - precision: 0.9928 - recall: 0.9948 - val_loss: 0.0051 - val_accuracy: 1.0000 - val_precision: 1.0000 - val_recall: 1.0000\n",
      "Epoch 27/36\n",
      "122/122 [==============================] - 19s 159ms/step - loss: 0.0156 - accuracy: 0.9938 - precision: 0.9928 - recall: 0.9948 - val_loss: 0.0055 - val_accuracy: 0.9979 - val_precision: 0.9959 - val_recall: 1.0000\n",
      "Epoch 28/36\n",
      "122/122 [==============================] - 19s 159ms/step - loss: 0.0178 - accuracy: 0.9928 - precision: 0.9938 - recall: 0.9917 - val_loss: 0.0203 - val_accuracy: 0.9918 - val_precision: 0.9878 - val_recall: 0.9959\n",
      "Epoch 29/36\n",
      "122/122 [==============================] - 20s 160ms/step - loss: 0.0203 - accuracy: 0.9923 - precision: 0.9928 - recall: 0.9917 - val_loss: 0.0108 - val_accuracy: 0.9938 - val_precision: 0.9959 - val_recall: 0.9918\n",
      "Epoch 30/36\n",
      "122/122 [==============================] - 19s 159ms/step - loss: 0.0216 - accuracy: 0.9938 - precision: 0.9938 - recall: 0.9938 - val_loss: 0.0236 - val_accuracy: 0.9877 - val_precision: 0.9917 - val_recall: 0.9835\n",
      "Epoch 31/36\n",
      "122/122 [==============================] - 19s 159ms/step - loss: 0.0064 - accuracy: 0.9979 - precision: 0.9990 - recall: 0.9969 - val_loss: 0.0099 - val_accuracy: 0.9979 - val_precision: 0.9959 - val_recall: 1.0000\n",
      "Epoch 32/36\n",
      "122/122 [==============================] - 19s 159ms/step - loss: 0.0145 - accuracy: 0.9943 - precision: 0.9948 - recall: 0.9938 - val_loss: 0.0450 - val_accuracy: 0.9897 - val_precision: 0.9798 - val_recall: 1.0000\n",
      "Epoch 33/36\n",
      "122/122 [==============================] - 19s 159ms/step - loss: 0.0051 - accuracy: 0.9995 - precision: 0.9990 - recall: 1.0000 - val_loss: 0.0035 - val_accuracy: 0.9979 - val_precision: 1.0000 - val_recall: 0.9959\n",
      "Epoch 34/36\n",
      "122/122 [==============================] - 19s 159ms/step - loss: 0.0133 - accuracy: 0.9943 - precision: 0.9948 - recall: 0.9938 - val_loss: 0.0101 - val_accuracy: 0.9979 - val_precision: 1.0000 - val_recall: 0.9959\n",
      "Epoch 35/36\n",
      "122/122 [==============================] - 19s 159ms/step - loss: 0.0049 - accuracy: 0.9979 - precision: 0.9979 - recall: 0.9979 - val_loss: 0.0146 - val_accuracy: 0.9959 - val_precision: 1.0000 - val_recall: 0.9918\n",
      "Epoch 36/36\n",
      "122/122 [==============================] - 19s 159ms/step - loss: 0.0018 - accuracy: 0.9995 - precision: 1.0000 - recall: 0.9990 - val_loss: 0.0145 - val_accuracy: 0.9938 - val_precision: 0.9918 - val_recall: 0.9959\n",
      "\n",
      "##################################################\n",
      "Fold:  4\n",
      "##################################################\n",
      "Found 1943 validated image filenames belonging to 2 classes.\n",
      "Found 485 validated image filenames belonging to 2 classes.\n",
      "WARNING:tensorflow:sample_weight modes were coerced from\n",
      "  ...\n",
      "    to  \n",
      "  ['...']\n",
      "WARNING:tensorflow:sample_weight modes were coerced from\n",
      "  ...\n",
      "    to  \n",
      "  ['...']\n",
      "Train for 122 steps, validate for 31 steps\n",
      "Epoch 37/48\n",
      "122/122 [==============================] - 19s 159ms/step - loss: 0.0346 - accuracy: 0.9882 - precision: 0.9878 - recall: 0.9888 - val_loss: 0.0095 - val_accuracy: 0.9959 - val_precision: 1.0000 - val_recall: 0.9913\n",
      "Epoch 38/48\n",
      "122/122 [==============================] - 19s 159ms/step - loss: 0.0227 - accuracy: 0.9943 - precision: 0.9959 - recall: 0.9929 - val_loss: 0.0362 - val_accuracy: 0.9938 - val_precision: 0.9871 - val_recall: 1.0000\n",
      "Epoch 39/48\n",
      "122/122 [==============================] - 19s 159ms/step - loss: 0.0138 - accuracy: 0.9954 - precision: 0.9939 - recall: 0.9969 - val_loss: 0.0043 - val_accuracy: 0.9979 - val_precision: 1.0000 - val_recall: 0.9957\n",
      "Epoch 40/48\n",
      "122/122 [==============================] - 19s 159ms/step - loss: 0.0253 - accuracy: 0.9933 - precision: 0.9929 - recall: 0.9939 - val_loss: 0.0117 - val_accuracy: 0.9959 - val_precision: 1.0000 - val_recall: 0.9913\n",
      "Epoch 41/48\n",
      "122/122 [==============================] - 19s 159ms/step - loss: 0.0086 - accuracy: 0.9974 - precision: 0.9980 - recall: 0.9969 - val_loss: 0.0010 - val_accuracy: 1.0000 - val_precision: 1.0000 - val_recall: 1.0000\n",
      "Epoch 42/48\n",
      "122/122 [==============================] - 19s 159ms/step - loss: 0.0095 - accuracy: 0.9969 - precision: 0.9969 - recall: 0.9969 - val_loss: 0.0056 - val_accuracy: 1.0000 - val_precision: 1.0000 - val_recall: 1.0000\n",
      "Epoch 43/48\n",
      "122/122 [==============================] - 19s 159ms/step - loss: 0.0035 - accuracy: 0.9995 - precision: 0.9990 - recall: 1.0000 - val_loss: 6.1368e-04 - val_accuracy: 1.0000 - val_precision: 1.0000 - val_recall: 1.0000\n",
      "Epoch 44/48\n",
      "122/122 [==============================] - 19s 160ms/step - loss: 0.0021 - accuracy: 0.9995 - precision: 1.0000 - recall: 0.9990 - val_loss: 0.0017 - val_accuracy: 1.0000 - val_precision: 1.0000 - val_recall: 1.0000\n",
      "Epoch 45/48\n",
      "122/122 [==============================] - 19s 159ms/step - loss: 0.0017 - accuracy: 0.9990 - precision: 0.9990 - recall: 0.9990 - val_loss: 0.0035 - val_accuracy: 0.9979 - val_precision: 1.0000 - val_recall: 0.9957\n",
      "Epoch 46/48\n",
      "122/122 [==============================] - 19s 159ms/step - loss: 0.0099 - accuracy: 0.9985 - precision: 0.9980 - recall: 0.9990 - val_loss: 0.0353 - val_accuracy: 0.9897 - val_precision: 1.0000 - val_recall: 0.9783\n",
      "Epoch 47/48\n",
      "122/122 [==============================] - 19s 160ms/step - loss: 0.0028 - accuracy: 0.9990 - precision: 0.9990 - recall: 0.9990 - val_loss: 0.0016 - val_accuracy: 1.0000 - val_precision: 1.0000 - val_recall: 1.0000\n",
      "Epoch 48/48\n",
      "122/122 [==============================] - 19s 159ms/step - loss: 0.0048 - accuracy: 0.9974 - precision: 0.9969 - recall: 0.9980 - val_loss: 6.7651e-04 - val_accuracy: 1.0000 - val_precision: 1.0000 - val_recall: 1.0000\n",
      "\n",
      "##################################################\n",
      "Fold:  5\n",
      "##################################################\n",
      "Found 1943 validated image filenames belonging to 2 classes.\n",
      "Found 485 validated image filenames belonging to 2 classes.\n",
      "WARNING:tensorflow:sample_weight modes were coerced from\n",
      "  ...\n",
      "    to  \n",
      "  ['...']\n",
      "WARNING:tensorflow:sample_weight modes were coerced from\n",
      "  ...\n",
      "    to  \n",
      "  ['...']\n",
      "Train for 122 steps, validate for 31 steps\n",
      "Epoch 49/60\n",
      "122/122 [==============================] - 19s 159ms/step - loss: 0.0083 - accuracy: 0.9969 - precision: 0.9968 - recall: 0.9968 - val_loss: 0.0059 - val_accuracy: 0.9959 - val_precision: 0.9923 - val_recall: 1.0000\n",
      "Epoch 50/60\n",
      "122/122 [==============================] - 19s 159ms/step - loss: 0.0232 - accuracy: 0.9923 - precision: 0.9916 - recall: 0.9926 - val_loss: 0.0020 - val_accuracy: 1.0000 - val_precision: 1.0000 - val_recall: 1.0000\n",
      "Epoch 51/60\n",
      "122/122 [==============================] - 19s 159ms/step - loss: 0.0225 - accuracy: 0.9938 - precision: 0.9947 - recall: 0.9926 - val_loss: 0.0038 - val_accuracy: 0.9979 - val_precision: 1.0000 - val_recall: 0.9961\n",
      "Epoch 52/60\n",
      "122/122 [==============================] - 19s 159ms/step - loss: 0.0044 - accuracy: 0.9985 - precision: 1.0000 - recall: 0.9968 - val_loss: 2.7150e-04 - val_accuracy: 1.0000 - val_precision: 1.0000 - val_recall: 1.0000\n",
      "Epoch 53/60\n",
      "122/122 [==============================] - 19s 160ms/step - loss: 7.8399e-04 - accuracy: 1.0000 - precision: 1.0000 - recall: 1.0000 - val_loss: 1.4644e-04 - val_accuracy: 1.0000 - val_precision: 1.0000 - val_recall: 1.0000\n",
      "Epoch 54/60\n",
      "122/122 [==============================] - 19s 159ms/step - loss: 6.0238e-04 - accuracy: 1.0000 - precision: 1.0000 - recall: 1.0000 - val_loss: 1.1547e-04 - val_accuracy: 1.0000 - val_precision: 1.0000 - val_recall: 1.0000\n",
      "Epoch 55/60\n",
      "122/122 [==============================] - 19s 159ms/step - loss: 0.0017 - accuracy: 0.9995 - precision: 1.0000 - recall: 0.9989 - val_loss: 4.6927e-05 - val_accuracy: 1.0000 - val_precision: 1.0000 - val_recall: 1.0000\n",
      "Epoch 56/60\n",
      "122/122 [==============================] - 19s 159ms/step - loss: 0.0014 - accuracy: 0.9995 - precision: 1.0000 - recall: 0.9989 - val_loss: 0.0012 - val_accuracy: 1.0000 - val_precision: 1.0000 - val_recall: 1.0000\n",
      "Epoch 57/60\n",
      "122/122 [==============================] - 19s 159ms/step - loss: 0.0107 - accuracy: 0.9959 - precision: 0.9958 - recall: 0.9958 - val_loss: 0.0014 - val_accuracy: 1.0000 - val_precision: 1.0000 - val_recall: 1.0000\n",
      "Epoch 58/60\n",
      "122/122 [==============================] - 19s 159ms/step - loss: 0.0055 - accuracy: 0.9985 - precision: 0.9989 - recall: 0.9979 - val_loss: 2.0509e-04 - val_accuracy: 1.0000 - val_precision: 1.0000 - val_recall: 1.0000\n",
      "Epoch 59/60\n",
      "122/122 [==============================] - 19s 159ms/step - loss: 5.9031e-04 - accuracy: 1.0000 - precision: 1.0000 - recall: 1.0000 - val_loss: 6.1325e-05 - val_accuracy: 1.0000 - val_precision: 1.0000 - val_recall: 1.0000\n",
      "Epoch 60/60\n",
      "122/122 [==============================] - 19s 160ms/step - loss: 4.2870e-04 - accuracy: 1.0000 - precision: 1.0000 - recall: 1.0000 - val_loss: 1.2822e-04 - val_accuracy: 1.0000 - val_precision: 1.0000 - val_recall: 1.0000\n"
     ]
    }
   ],
   "source": [
    "from tensorflow.keras import optimizers\n",
    "\n",
    "with tf.device('/GPU:0'):\n",
    "    METRICS = ['accuracy',tf.keras.metrics.Precision(name='precision'),tf.keras.metrics.Recall(name='recall')]\n",
    "    histories=[]\n",
    "    my_model.compile(loss='binary_crossentropy',optimizer='adam',metrics=METRICS)\n",
    "    EPOCHS = 12\n",
    "    \n",
    "    '''\n",
    "    data_arg = ImageDataGenerator(rescale=1/255.,rotation_range=30,\n",
    "        width_shift_range=0.1,# traslazione verticale\n",
    "        height_shift_range=0.1,# traslazione orizontale\n",
    "        zoom_range=0.1,#zoommare\n",
    "        vertical_flip=True,\n",
    "        fill_mode='nearest',#come riempire i pixel dopo traslazione e shift\n",
    "        validation_split=0.2) \n",
    "    '''\n",
    "    \n",
    "    train_data = ImageDataGenerator(rescale=1./255)\n",
    "\n",
    "#print(len(train_dataset))\n",
    "    kfold = KFold(5, shuffle=True, random_state = 42)\n",
    "\n",
    "    for f, (trn_ind, val_ind) in enumerate(kfold.split(train_dataset)):\n",
    "        print(); print(\"#\"*50)\n",
    "        print(\"Fold: \",f+1)\n",
    "        print(\"#\"*50)\n",
    "    \n",
    "        train_ds = train_data.flow_from_dataframe(img_dataframe.loc[trn_ind,:], \n",
    "                                         x_col='PATH', y_col='LABELS',\n",
    "                                         target_size=(150,150),\n",
    "                                         class_mode = 'binary', color_mode = 'rgb',\n",
    "                                         batch_size = 16, shuffle = True)\n",
    "        val_ds = train_data.flow_from_dataframe(img_dataframe.loc[val_ind,:], \n",
    "                                       x_col='PATH', y_col='LABELS',\n",
    "                                       target_size=(150,150),\n",
    "                                       class_mode = 'binary', color_mode = 'rgb',\n",
    "                                       batch_size = 16, shuffle = True)\n",
    "        fold_start_epoch = f * EPOCHS\n",
    "        fold_end_epoch = EPOCHS * (f+1)\n",
    "        history=my_model.fit(train_ds, initial_epoch=fold_start_epoch , epochs=fold_end_epoch, validation_data=val_ds, shuffle=True)\n",
    "        histories.append(history)"
   ]
  },
  {
   "cell_type": "code",
   "execution_count": 61,
   "metadata": {},
   "outputs": [
    {
     "data": {
      "image/png": "[encoded data removed]",
      "text/plain": [
       "<Figure size 432x288 with 1 Axes>"
      ]
     },
     "metadata": {
      "needs_background": "light"
     },
     "output_type": "display_data"
    },
    {
     "data": {
      "image/png": "[encoded data removed]",
      "text/plain": [
       "<Figure size 432x288 with 1 Axes>"
      ]
     },
     "metadata": {
      "needs_background": "light"
     },
     "output_type": "display_data"
    }
   ],
   "source": [
    "import matplotlib.pyplot as plt\n",
    "\n",
    "acc, val_acc = [], []\n",
    "loss, val_loss = [], []\n",
    "for i in range(len(histories)):\n",
    "    acc += histories[i].history['accuracy']\n",
    "    val_acc += histories[i].history['val_accuracy']\n",
    "    loss += histories[i].history['loss']\n",
    "    val_loss += histories[i].history['val_loss']\n",
    "  \n",
    "total_epoch = len(histories) * len(history.epoch) # num of fold * each epoch \n",
    "epochs = range(total_epoch)\n",
    "plt.plot(epochs,acc,'bo',label='Training_accuracy')\n",
    "plt.plot(epochs,val_acc,'r',label='Validation_accuracy')\n",
    "plt.legend()\n",
    "plt.figure()\n",
    "\n",
    "plt.plot(epochs,loss,'b',label='Training loss')\n",
    "plt.plot(epochs,val_loss,'r',label='Validation loss')\n",
    "plt.legend()\n",
    "plt.show()"
   ]
  },
  {
   "cell_type": "code",
   "execution_count": 62,
   "metadata": {},
   "outputs": [
    {
     "name": "stdout",
     "output_type": "stream",
     "text": [
      "Found 624 images belonging to 2 classes.\n",
      "WARNING:tensorflow:sample_weight modes were coerced from\n",
      "  ...\n",
      "    to  \n",
      "  ['...']\n",
      "20/20 [==============================] - 3s 139ms/step - loss: 2.9193 - accuracy: 0.8061 - precision: 0.7685 - recall: 0.9872\n"
     ]
    }
   ],
   "source": [
    "test_gen = train_data.flow_from_directory('/opt/datasets/chest_xray/test/',target_size=(150,150),batch_size=32,class_mode='binary')\n",
    "\n",
    "results = my_model.evaluate(test_gen)"
   ]
  },
  {
   "cell_type": "code",
   "execution_count": 15,
   "metadata": {},
   "outputs": [
    {
     "name": "stdout",
     "output_type": "stream",
     "text": [
      "[[0.0299335]]\n"
     ]
    },
    {
     "data": {
      "image/png": "[encoded data removed]",
      "text/plain": [
       "<Figure size 288x288 with 1 Axes>"
      ]
     },
     "metadata": {
      "needs_background": "light"
     },
     "output_type": "display_data"
    }
   ],
   "source": [
    "import matplotlib.pyplot as plt\n",
    "from tensorflow.keras.models import load_model\n",
    "import tensorflow as tf\n",
    "from tensorflow.keras.preprocessing.image import ImageDataGenerator\n",
    "import os \n",
    "\n",
    "k_fold = load_model('./Kfold_argumented.h5')\n",
    "\n",
    "fnames = [ os.path.join('../../opt/datasets/chest_xray/chest_xray/test/NORMAL/',fname) for fname in os.listdir('../../opt/datasets/chest_xray/chest_xray/test/NORMAL/')  ]\n",
    "image_path= fnames[30]\n",
    "\n",
    "img = tf.keras.preprocessing.image.load_img(image_path,target_size=(150,150))\n",
    "plt.figure(figsize=(4,4))\n",
    "plt.axis('off')\n",
    "plt.title('NORMAL')\n",
    "plt.imshow(img)\n",
    "\n",
    "rescaler=ImageDataGenerator(rescale=1./255)\n",
    "x = tf.keras.preprocessing.image.img_to_array(img)\n",
    "x = x.reshape((1,) + x.shape )# adding a dimension\n",
    "\n",
    "res=k_fold.predict(rescaler.flow(x))\n",
    "print(res)# Prob of having PNEUMONIA"
   ]
  }
 ],
 "metadata": {
  "kernelspec": {
   "display_name": "Python 3",
   "language": "python",
   "name": "python3"
  },
  "language_info": {
   "codemirror_mode": {
    "name": "ipython",
    "version": 3
   },
   "file_extension": ".py",
   "mimetype": "text/x-python",
   "name": "python",
   "nbconvert_exporter": "python",
   "pygments_lexer": "ipython3",
   "version": "3.6.9"
  }
 },
 "nbformat": 4,
 "nbformat_minor": 4
}
